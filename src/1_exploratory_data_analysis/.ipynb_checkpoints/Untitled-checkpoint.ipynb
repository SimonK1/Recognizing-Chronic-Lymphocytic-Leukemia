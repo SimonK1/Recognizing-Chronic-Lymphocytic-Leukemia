{
 "cells": [
  {
   "cell_type": "code",
   "execution_count": 50,
   "id": "f35c9d7f-e022-4ac8-b135-1b7f21f3d4a4",
   "metadata": {},
   "outputs": [],
   "source": [
    "%matplotlib inline\n",
    "import matplotlib.pyplot as plt\n",
    "import seaborn as sns\n",
    "import pandas as pd\n",
    "import numpy as np\n",
    "import scipy.stats as stats\n",
    "import pylab as py\n",
    "import statsmodels.api as sm\n",
    "import statsmodels.stats as sm_stats\n",
    "import statsmodels.stats.api as sms\n",
    "import math\n",
    "from datetime import datetime, date\n",
    "from sklearn.pipeline import Pipeline\n",
    "from sklearn.base import TransformerMixin\n",
    "from sklearn.impute import KNNImputer\n",
    "from sklearn import preprocessing\n",
    "from sklearn.preprocessing import power_transform\n",
    "from sklearn.preprocessing import PowerTransformer"
   ]
  },
  {
   "cell_type": "code",
   "execution_count": 156,
   "id": "3c9e5830-c2f7-4ca0-8d2c-269b675e152c",
   "metadata": {},
   "outputs": [],
   "source": [
    "# read labor and profiles dataset\n",
    "df_labor = pd.read_csv('../../data/labor.csv', sep='\\t')\n",
    "df_profiles = pd.read_csv('../../data/profiles.csv', sep='\\t')"
   ]
  },
  {
   "cell_type": "markdown",
   "id": "f04cf2ed-5a3e-49b8-bebb-4f286f71be20",
   "metadata": {},
   "source": [
    "Tieto nemajú korelácie takže som mapoval podľa mean a median."
   ]
  },
  {
   "cell_type": "code",
   "execution_count": 3,
   "id": "db6c75b1-f577-49f6-aba9-b2458d2e1336",
   "metadata": {},
   "outputs": [],
   "source": [
    "def meanNinja(column):\n",
    "    df_labor[column] = df_labor[column].fillna(df_labor[column].mean())\n",
    "    \n",
    "def medianNinja(column):\n",
    "    df_labor[column] = df_labor[column].fillna(df_labor[column].median())\n",
    "    \n",
    "def controlNinja(column):\n",
    "    print(df_labor[column].loc[df_labor[column].isna(),])\n",
    "    print(sum(df_labor[column].isna()))\n",
    "    \n",
    "def knnNinja(column):\n",
    "    imputer = KNNImputer(n_neighbors=5)\n",
    "    copy = df_labor[column].values.reshape(-1,1)\n",
    "    imputer.fit(copy)\n",
    "    Xtrans = imputer.transform(copy)\n",
    "    df_labor[column] = pd.DataFrame(Xtrans)\n",
    "    \n",
    "def regressionNinja(column):\n",
    "    df_labor[column].interpolate(method='linear', inplace=True)\n",
    "\n",
    "def ratioNinja(columnToFill, corrColumn):\n",
    "    ratio = df_labor[corrColumn]/df_labor[columnToFill]\n",
    "    df_labor[columnToFill] = df_labor[columnToFill].fillna(df_labor[corrColumn] * ratio.mean())"
   ]
  },
  {
   "cell_type": "markdown",
   "id": "7750b80b-9a75-4545-b152-6b89fb494cfe",
   "metadata": {},
   "source": [
    "Hemoglobin"
   ]
  },
  {
   "cell_type": "code",
   "execution_count": 4,
   "id": "c843ae97-4801-482f-8075-fa6ed13e201b",
   "metadata": {},
   "outputs": [
    {
     "name": "stdout",
     "output_type": "stream",
     "text": [
      "Series([], Name: hemoglobin, dtype: float64)\n",
      "0\n"
     ]
    }
   ],
   "source": [
    "meanNinja(\"hemoglobin\")\n",
    "controlNinja(\"hemoglobin\")"
   ]
  },
  {
   "cell_type": "markdown",
   "id": "d186d3c0-dd37-4af1-b4f9-dba7604bf60f",
   "metadata": {},
   "source": [
    "Tromobocyty"
   ]
  },
  {
   "cell_type": "code",
   "execution_count": 5,
   "id": "3620be24-dbde-4cc6-8245-3d89aeac25bf",
   "metadata": {},
   "outputs": [
    {
     "name": "stdout",
     "output_type": "stream",
     "text": [
      "Series([], Name: trombocyty, dtype: float64)\n",
      "0\n"
     ]
    }
   ],
   "source": [
    "meanNinja(\"trombocyty\")\n",
    "controlNinja(\"trombocyty\")"
   ]
  },
  {
   "cell_type": "markdown",
   "id": "af69015b-f9dc-4f86-8699-77802489d0d2",
   "metadata": {},
   "source": [
    "Er-cv"
   ]
  },
  {
   "cell_type": "code",
   "execution_count": 6,
   "id": "6ffc1375-0037-4b72-95c9-f91a5651d6fd",
   "metadata": {},
   "outputs": [
    {
     "name": "stdout",
     "output_type": "stream",
     "text": [
      "Series([], Name: er-cv, dtype: float64)\n",
      "0\n"
     ]
    }
   ],
   "source": [
    "medianNinja(\"er-cv\")\n",
    "controlNinja(\"er-cv\")"
   ]
  },
  {
   "cell_type": "code",
   "execution_count": 7,
   "id": "87b3e9c3-e27d-465b-a8f3-ece6e7cf4bf7",
   "metadata": {},
   "outputs": [
    {
     "name": "stdout",
     "output_type": "stream",
     "text": [
      "Series([], Name: hematokrit, dtype: float64)\n",
      "0\n"
     ]
    }
   ],
   "source": [
    "medianNinja(\"hematokrit\")\n",
    "controlNinja(\"hematokrit\")"
   ]
  },
  {
   "cell_type": "markdown",
   "id": "16d4ac98-7b67-4d45-8fc1-623b0b6b3cc4",
   "metadata": {},
   "source": [
    "ast"
   ]
  },
  {
   "cell_type": "code",
   "execution_count": 8,
   "id": "03b637f1-5032-4b8d-b832-7a99f5fd21c0",
   "metadata": {},
   "outputs": [
    {
     "name": "stdout",
     "output_type": "stream",
     "text": [
      "Series([], Name: ast, dtype: float64)\n",
      "0\n"
     ]
    }
   ],
   "source": [
    "knnNinja(\"ast\")\n",
    "controlNinja(\"ast\")"
   ]
  },
  {
   "cell_type": "markdown",
   "id": "fc85b5c3-3130-4ff5-89a4-c1a9418a793c",
   "metadata": {},
   "source": [
    "alp"
   ]
  },
  {
   "cell_type": "code",
   "execution_count": 9,
   "id": "89182926-d45e-44ad-8ea1-c3fca74b166d",
   "metadata": {},
   "outputs": [
    {
     "name": "stdout",
     "output_type": "stream",
     "text": [
      "Series([], Name: alp, dtype: float64)\n",
      "0\n"
     ]
    }
   ],
   "source": [
    "knnNinja(\"alp\")\n",
    "controlNinja(\"alp\")"
   ]
  },
  {
   "cell_type": "code",
   "execution_count": 10,
   "id": "e3c422a0-aedd-4cd1-b3e5-8b3d6b1ba6fa",
   "metadata": {},
   "outputs": [
    {
     "name": "stdout",
     "output_type": "stream",
     "text": [
      "Series([], Name: etytr, dtype: float64)\n",
      "0\n"
     ]
    }
   ],
   "source": [
    "regressionNinja(\"etytr\")\n",
    "controlNinja(\"etytr\")"
   ]
  },
  {
   "cell_type": "code",
   "execution_count": 11,
   "id": "9ece045b-6ff1-4c22-92bc-5c00f4d29892",
   "metadata": {},
   "outputs": [
    {
     "name": "stdout",
     "output_type": "stream",
     "text": [
      "Series([], Name: alt, dtype: float64)\n",
      "0\n"
     ]
    }
   ],
   "source": [
    "regressionNinja(\"alt\")\n",
    "controlNinja(\"alt\")"
   ]
  },
  {
   "cell_type": "code",
   "execution_count": null,
   "id": "16a0d1c8-a955-4390-a02f-8211992c14e2",
   "metadata": {},
   "outputs": [],
   "source": []
  },
  {
   "cell_type": "markdown",
   "id": "e2ed2d20-0fe4-4051-9c78-c4625eb2da4a",
   "metadata": {},
   "source": [
    "Leukocyty korelujú s etytr"
   ]
  },
  {
   "cell_type": "code",
   "execution_count": 12,
   "id": "e118fe4c-8bd2-4605-ac3b-eae164079f5c",
   "metadata": {},
   "outputs": [
    {
     "name": "stdout",
     "output_type": "stream",
     "text": [
      "Series([], Name: leukocyty, dtype: float64)\n",
      "0\n"
     ]
    }
   ],
   "source": [
    "ratioNinja(\"leukocyty\",\"etytr\")\n",
    "controlNinja(\"leukocyty\")"
   ]
  },
  {
   "cell_type": "code",
   "execution_count": 13,
   "id": "ace54fcf-61a4-46b8-9ce6-48f5ccdf4769",
   "metadata": {},
   "outputs": [
    {
     "name": "stdout",
     "output_type": "stream",
     "text": [
      "Series([], Name: erytrocyty, dtype: float64)\n",
      "0\n"
     ]
    }
   ],
   "source": [
    "ratioNinja(\"erytrocyty\",\"alt\")\n",
    "controlNinja(\"erytrocyty\")"
   ]
  },
  {
   "cell_type": "code",
   "execution_count": 14,
   "id": "51ab0ef2-a5fe-4232-ae5b-0a0f0f7b195e",
   "metadata": {},
   "outputs": [
    {
     "name": "stdout",
     "output_type": "stream",
     "text": [
      "Series([], Name: hbver, dtype: float64)\n",
      "0\n"
     ]
    }
   ],
   "source": [
    "ratioNinja(\"hbver\",\"erytrocyty\")\n",
    "controlNinja(\"hbver\")"
   ]
  },
  {
   "cell_type": "code",
   "execution_count": 15,
   "id": "088249d3-3393-4849-94a8-2c539bcb16d8",
   "metadata": {},
   "outputs": [],
   "source": [
    "def scalingNinja(df_toScale):   \n",
    "    min_max_scaler = preprocessing.MinMaxScaler(feature_range =(0, 1))\n",
    "    scaled_dataframe = min_max_scaler.fit_transform(df_toScale.values.reshape(-1,1))\n",
    "    return scaled_dataframe\n",
    "\n",
    "def standardisatingNinja(df_toScale):\n",
    "    Standardisation = preprocessing.StandardScaler()\n",
    "    scaled_dataframe = Standardisation.fit_transform(df_toScale.values.reshape(-1,1))\n",
    "    return scaled_dataframe\n",
    "\n",
    "def powerTransform(df_toTransform):\n",
    "    return power_transform(df_toTransform.values.reshape(-1,1))\n",
    "\n"
   ]
  },
  {
   "cell_type": "code",
   "execution_count": 16,
   "id": "9938291c-9232-483d-b0a3-fd4514ccfb0e",
   "metadata": {},
   "outputs": [
    {
     "data": {
      "text/plain": [
       "0    0.618501\n",
       "1    0.669072\n",
       "2    0.653309\n",
       "3    0.673371\n",
       "4    0.674875\n",
       "Name: ast, dtype: float64"
      ]
     },
     "execution_count": 16,
     "metadata": {},
     "output_type": "execute_result"
    }
   ],
   "source": [
    "df_labor[\"ast\"] = scalingNinja(df_labor[\"ast\"])\n",
    "df_labor[\"ast\"].head()"
   ]
  },
  {
   "cell_type": "code",
   "execution_count": 17,
   "id": "8a894444-cdf6-458d-ba30-98b0c6ad7ca6",
   "metadata": {},
   "outputs": [
    {
     "data": {
      "text/plain": [
       "0    0.497458\n",
       "1    0.983211\n",
       "2    0.153915\n",
       "3   -1.925259\n",
       "4    0.946127\n",
       "Name: alp, dtype: float64"
      ]
     },
     "execution_count": 17,
     "metadata": {},
     "output_type": "execute_result"
    }
   ],
   "source": [
    "df_labor[\"alp\"] = standardisatingNinja(df_labor[\"alp\"])\n",
    "df_labor[\"alp\"].head()"
   ]
  },
  {
   "cell_type": "code",
   "execution_count": 18,
   "id": "bfe21a8a-8e05-4e2e-95d1-7eca1fa25e33",
   "metadata": {},
   "outputs": [
    {
     "data": {
      "text/plain": [
       "0    0.675003\n",
       "1   -0.897033\n",
       "2   -0.938073\n",
       "3   -0.841692\n",
       "4   -0.173226\n",
       "Name: alt, dtype: float64"
      ]
     },
     "execution_count": 18,
     "metadata": {},
     "output_type": "execute_result"
    }
   ],
   "source": [
    "df_labor[\"alt\"] = powerTransform(df_labor[\"alt\"])\n",
    "df_labor[\"alt\"].head()"
   ]
  },
  {
   "cell_type": "code",
   "execution_count": 19,
   "id": "6e0ec68d-a5e4-4551-8d17-c140aec902f4",
   "metadata": {},
   "outputs": [
    {
     "data": {
      "text/html": [
       "<div>\n",
       "<style scoped>\n",
       "    .dataframe tbody tr th:only-of-type {\n",
       "        vertical-align: middle;\n",
       "    }\n",
       "\n",
       "    .dataframe tbody tr th {\n",
       "        vertical-align: top;\n",
       "    }\n",
       "\n",
       "    .dataframe thead th {\n",
       "        text-align: right;\n",
       "    }\n",
       "</style>\n",
       "<table border=\"1\" class=\"dataframe\">\n",
       "  <thead>\n",
       "    <tr style=\"text-align: right;\">\n",
       "      <th></th>\n",
       "      <th>Unnamed: 0</th>\n",
       "      <th>hemoglobin</th>\n",
       "      <th>leukocyty</th>\n",
       "      <th>etytr</th>\n",
       "      <th>weight</th>\n",
       "      <th>trombocyty</th>\n",
       "      <th>ast</th>\n",
       "      <th>alp</th>\n",
       "      <th>relationship</th>\n",
       "      <th>name</th>\n",
       "      <th>alt</th>\n",
       "      <th>hbver</th>\n",
       "      <th>smoker</th>\n",
       "      <th>erytrocyty</th>\n",
       "      <th>er-cv</th>\n",
       "      <th>indicator</th>\n",
       "      <th>ssn</th>\n",
       "      <th>hematokrit</th>\n",
       "    </tr>\n",
       "  </thead>\n",
       "  <tbody>\n",
       "    <tr>\n",
       "      <th>0</th>\n",
       "      <td>0</td>\n",
       "      <td>6.77299</td>\n",
       "      <td>5.28153</td>\n",
       "      <td>4.79087</td>\n",
       "      <td>104.22450</td>\n",
       "      <td>7.22472</td>\n",
       "      <td>0.618501</td>\n",
       "      <td>0.497458</td>\n",
       "      <td>married</td>\n",
       "      <td>Kathryn Wagner</td>\n",
       "      <td>0.675003</td>\n",
       "      <td>9.04461</td>\n",
       "      <td>no</td>\n",
       "      <td>7.94417</td>\n",
       "      <td>61.31451</td>\n",
       "      <td>0.0</td>\n",
       "      <td>887-91-9698</td>\n",
       "      <td>5.40103</td>\n",
       "    </tr>\n",
       "    <tr>\n",
       "      <th>1</th>\n",
       "      <td>1</td>\n",
       "      <td>6.35217</td>\n",
       "      <td>5.45245</td>\n",
       "      <td>3.34754</td>\n",
       "      <td>65.03608</td>\n",
       "      <td>7.00407</td>\n",
       "      <td>0.669072</td>\n",
       "      <td>0.983211</td>\n",
       "      <td>widowed</td>\n",
       "      <td>Frank Becker</td>\n",
       "      <td>-0.897033</td>\n",
       "      <td>9.09262</td>\n",
       "      <td>no</td>\n",
       "      <td>5.33302</td>\n",
       "      <td>58.00624</td>\n",
       "      <td>0.0</td>\n",
       "      <td>506-37-0250</td>\n",
       "      <td>7.68167</td>\n",
       "    </tr>\n",
       "    <tr>\n",
       "      <th>2</th>\n",
       "      <td>2</td>\n",
       "      <td>5.37162</td>\n",
       "      <td>7.36106</td>\n",
       "      <td>7.10989</td>\n",
       "      <td>63.61518</td>\n",
       "      <td>6.95232</td>\n",
       "      <td>0.653309</td>\n",
       "      <td>0.153915</td>\n",
       "      <td>married</td>\n",
       "      <td>Stephanie Lewis</td>\n",
       "      <td>-0.938073</td>\n",
       "      <td>6.18215</td>\n",
       "      <td>no</td>\n",
       "      <td>6.38771</td>\n",
       "      <td>62.73102</td>\n",
       "      <td>1.0</td>\n",
       "      <td>331-52-1241</td>\n",
       "      <td>6.27422</td>\n",
       "    </tr>\n",
       "    <tr>\n",
       "      <th>3</th>\n",
       "      <td>3</td>\n",
       "      <td>4.60987</td>\n",
       "      <td>8.04010</td>\n",
       "      <td>4.97779</td>\n",
       "      <td>30.35294</td>\n",
       "      <td>6.63243</td>\n",
       "      <td>0.673371</td>\n",
       "      <td>-1.925259</td>\n",
       "      <td>married</td>\n",
       "      <td>Luis Williams</td>\n",
       "      <td>-0.841692</td>\n",
       "      <td>5.22920</td>\n",
       "      <td>no</td>\n",
       "      <td>5.05640</td>\n",
       "      <td>62.60592</td>\n",
       "      <td>1.0</td>\n",
       "      <td>407-22-7513</td>\n",
       "      <td>6.61263</td>\n",
       "    </tr>\n",
       "    <tr>\n",
       "      <th>4</th>\n",
       "      <td>4</td>\n",
       "      <td>5.97408</td>\n",
       "      <td>6.66899</td>\n",
       "      <td>5.58872</td>\n",
       "      <td>97.97181</td>\n",
       "      <td>6.18242</td>\n",
       "      <td>0.674875</td>\n",
       "      <td>0.946127</td>\n",
       "      <td>divoced</td>\n",
       "      <td>Donald Hall</td>\n",
       "      <td>-0.173226</td>\n",
       "      <td>4.97805</td>\n",
       "      <td>yes</td>\n",
       "      <td>5.10205</td>\n",
       "      <td>59.32470</td>\n",
       "      <td>1.0</td>\n",
       "      <td>486-30-7935</td>\n",
       "      <td>6.23117</td>\n",
       "    </tr>\n",
       "  </tbody>\n",
       "</table>\n",
       "</div>"
      ],
      "text/plain": [
       "   Unnamed: 0  hemoglobin  leukocyty    etytr     weight  trombocyty  \\\n",
       "0           0     6.77299    5.28153  4.79087  104.22450     7.22472   \n",
       "1           1     6.35217    5.45245  3.34754   65.03608     7.00407   \n",
       "2           2     5.37162    7.36106  7.10989   63.61518     6.95232   \n",
       "3           3     4.60987    8.04010  4.97779   30.35294     6.63243   \n",
       "4           4     5.97408    6.66899  5.58872   97.97181     6.18242   \n",
       "\n",
       "        ast       alp relationship             name       alt    hbver smoker  \\\n",
       "0  0.618501  0.497458      married   Kathryn Wagner  0.675003  9.04461     no   \n",
       "1  0.669072  0.983211      widowed     Frank Becker -0.897033  9.09262     no   \n",
       "2  0.653309  0.153915      married  Stephanie Lewis -0.938073  6.18215     no   \n",
       "3  0.673371 -1.925259      married    Luis Williams -0.841692  5.22920     no   \n",
       "4  0.674875  0.946127      divoced      Donald Hall -0.173226  4.97805    yes   \n",
       "\n",
       "   erytrocyty     er-cv  indicator          ssn  hematokrit  \n",
       "0     7.94417  61.31451        0.0  887-91-9698     5.40103  \n",
       "1     5.33302  58.00624        0.0  506-37-0250     7.68167  \n",
       "2     6.38771  62.73102        1.0  331-52-1241     6.27422  \n",
       "3     5.05640  62.60592        1.0  407-22-7513     6.61263  \n",
       "4     5.10205  59.32470        1.0  486-30-7935     6.23117  "
      ]
     },
     "execution_count": 19,
     "metadata": {},
     "output_type": "execute_result"
    }
   ],
   "source": [
    "df_labor.head()"
   ]
  },
  {
   "cell_type": "code",
   "execution_count": 123,
   "id": "941f9ac3-6a3e-4b75-8cd9-6366b7cc253f",
   "metadata": {},
   "outputs": [],
   "source": [
    "class PowerTransform(TransformerMixin):\n",
    "    \"\"\"\n",
    "    A tranformer for normalising columns via power transformation.\n",
    "    \"\"\"\n",
    "    \n",
    "    def __init__(self, data, method, *args):\n",
    "        \"\"\"\n",
    "        Initialize method.\n",
    "\n",
    "        :param data: The dataset is instance of pandas.core.frame.DataFrame\n",
    "        :param *args: tuple of *str, specifing cols to be dropped\n",
    "        \"\"\"\n",
    "        self.data = data\n",
    "        self.cols = list(args)\n",
    "        #for col in kwargs.values():\n",
    "        #    self.cols.append(col)\n",
    "        \n",
    "    def fit(self, X, y=None):\n",
    "        \"\"\"\n",
    "        Fits transformer over data.\n",
    "\n",
    "        :param X: The dataset to pass to the transformer.\n",
    "        :returns: The transformer.\n",
    "        \"\"\"\n",
    "        return self\n",
    "    \n",
    "    def transform(self, X, **transform_params):\n",
    "        \"\"\"\n",
    "        Function to delete columns specified in *args to be deleted from data.\n",
    "\n",
    "        :param data: pandas.core.frame.DataFrame\n",
    "        :param *args: tuple of *str, specifing cols to be dropped\n",
    "        :returns: pandas.core.frame.DataFrame without columns specified in *args\n",
    "        :raises keyError: raises an exception in case column was not found\n",
    "        \"\"\"\n",
    "        try:\n",
    "            for col in self.cols:\n",
    "                 X[col] = powerTransform(X[col])\n",
    "                 #X[: , col] = power_transform(X[: , col].values.reshape(-1,1))\n",
    "            return X\n",
    "        except KeyError:\n",
    "            print(f'Something from {self.cols} not found in dataset!') \n",
    "    "
   ]
  },
  {
   "cell_type": "code",
   "execution_count": 124,
   "id": "ade4c166-9126-4eba-84f3-9332d607cbdd",
   "metadata": {},
   "outputs": [],
   "source": [
    "class ScalingTransform(TransformerMixin):\n",
    "    \"\"\"\n",
    "    A tranformer for normalising columns via power transformation.\n",
    "    \"\"\"\n",
    "    \n",
    "    def __init__(self, data, method, *args):\n",
    "        \"\"\"\n",
    "        Initialize method.\n",
    "\n",
    "        :param data: The dataset is instance of pandas.core.frame.DataFrame\n",
    "        :param *args: tuple of *str, specifing cols to be dropped\n",
    "        \"\"\"\n",
    "        self.data = data\n",
    "        self.cols = list(args)\n",
    "        self.method = method\n",
    "        #for col in kwargs.values():\n",
    "        #    self.cols.append(col)\n",
    "        \n",
    "    def fit(self, X, y=None):\n",
    "        \"\"\"\n",
    "        Fits transformer over data.\n",
    "\n",
    "        :param X: The dataset to pass to the transformer.\n",
    "        :returns: The transformer.\n",
    "        \"\"\"\n",
    "        return self\n",
    "    \n",
    "    def transform(self, X, **transform_params):\n",
    "        \"\"\"\n",
    "        Function to delete columns specified in *args to be deleted from data.\n",
    "\n",
    "        :param data: pandas.core.frame.DataFrame\n",
    "        :param *args: tuple of *str, specifing cols to be dropped\n",
    "        :returns: pandas.core.frame.DataFrame without columns specified in *args\n",
    "        :raises keyError: raises an exception in case column was not found\n",
    "        \"\"\"\n",
    "        try:\n",
    "            if self.method == \"Scaling\":\n",
    "                for col in self.cols:\n",
    "                    X[col] = scalingNinja(X[col])\n",
    "                     #X[: , col] = power_transform(X[: , col].values.reshape(-1,1))\n",
    "                return X\n",
    "            if self.method == \"Standard\":\n",
    "                for col in self.cols:\n",
    "                    X[col] = standardisatingNinja(X[col])\n",
    "                     #X[: , col] = power_transform(X[: , col].values.reshape(-1,1))\n",
    "                return X\n",
    "        except KeyError:\n",
    "            print(f'Something from {self.cols} not found in dataset!') \n",
    "    "
   ]
  },
  {
   "cell_type": "code",
   "execution_count": 136,
   "id": "5af2611f-4d06-4158-adce-55c2837ac1d4",
   "metadata": {},
   "outputs": [],
   "source": [
    "class FillingTransform(TransformerMixin):\n",
    "    \"\"\"\n",
    "    A tranformer for normalising columns via power transformation.\n",
    "    \"\"\"\n",
    "    \n",
    "    def __init__(self, data, method, *args):\n",
    "        \"\"\"\n",
    "        Initialize method.\n",
    "\n",
    "        :param data: The dataset is instance of pandas.core.frame.DataFrame\n",
    "        :param *args: tuple of *str, specifing cols to be dropped\n",
    "        \"\"\"\n",
    "        self.data = data\n",
    "        self.cols = list(args)\n",
    "        self.method = method\n",
    "        #for col in kwargs.values():\n",
    "        #    self.cols.append(col)\n",
    "        \n",
    "    def fit(self, X, y=None):\n",
    "        \"\"\"\n",
    "        Fits transformer over data.\n",
    "\n",
    "        :param X: The dataset to pass to the transformer.\n",
    "        :returns: The transformer.\n",
    "        \"\"\"\n",
    "        return self\n",
    "    \n",
    "    def transform(self, X, **transform_params):\n",
    "        \"\"\"\n",
    "        Function to delete columns specified in *args to be deleted from data.\n",
    "\n",
    "        :param data: pandas.core.frame.DataFrame\n",
    "        :param *args: tuple of *str, specifing cols to be dropped\n",
    "        :returns: pandas.core.frame.DataFrame without columns specified in *args\n",
    "        :raises keyError: raises an exception in case column was not found\n",
    "        \"\"\"\n",
    "        try:\n",
    "            if self.method == \"mean\":\n",
    "                for col in self.cols:\n",
    "                    X[col] = X[col].fillna(X[col].mean())\n",
    "                return X\n",
    "            if self.method == \"median\":\n",
    "                for col in self.cols:\n",
    "                    X[col] = X[col].fillna(X[col].median())\n",
    "                return X\n",
    "            if self.method == \"knn\":\n",
    "                for col in self.cols:\n",
    "                    imputer = KNNImputer(n_neighbors=5)\n",
    "                    imputer.fit(X[col].values.reshape(-1,1))\n",
    "                    Xtrans = imputer.transform(X[col].values.reshape(-1,1))\n",
    "                    X[col] = pd.DataFrame(Xtrans)\n",
    "                return X\n",
    "            if self.method == \"regression\":\n",
    "                for col in self.cols:\n",
    "                    X[col] = X[col].interpolate(method='linear')\n",
    "                return X\n",
    "            \n",
    "            \n",
    "        except KeyError:\n",
    "            print(f'Something from {self.cols} not found in dataset!') \n",
    "    "
   ]
  },
  {
   "cell_type": "code",
   "execution_count": 157,
   "id": "dcbbef8f-7cb2-44ee-8c5d-d3d921d314b3",
   "metadata": {},
   "outputs": [],
   "source": [
    "class RatioFillingTransformer(TransformerMixin):\n",
    "    \"\"\"\n",
    "    A tranformer for getting numerical values from the dataset.\n",
    "    \"\"\"\n",
    "    \n",
    "    def __init__(self,  data, colToFill, corrCol, *args):\n",
    "        \"\"\"\n",
    "        Initialize method.\n",
    "\n",
    "        :param data: The dataset is instance of pandas.core.frame.DataFrame\n",
    "        :param col: col to be transformed\n",
    "        :param what: dictionary, transform based on this\n",
    "        :param category: change type based on this\n",
    "        :param *args: -\n",
    "        \"\"\"\n",
    "        self.data = data\n",
    "        self.colToFill = colToFill\n",
    "        self.corrCol = corrCol\n",
    "        \n",
    "    def fit(self, X, y=None):\n",
    "        \"\"\"\n",
    "        Fits transformer over data.\n",
    "\n",
    "        :param X: The dataset to pass to the transformer.\n",
    "        :returns: The transformer.\n",
    "        \"\"\"\n",
    "        return self\n",
    "    \n",
    "    def transform(self, X, **transform_params):\n",
    "        \"\"\"\n",
    "        Function to transform column to a numeric and change a type.\n",
    "\n",
    "        :param X: pandas.core.frame.DataFrame\n",
    "        :returns: transformed pandas.core.frame.DataFrame\n",
    "        :raises keyError: raises an exception in case column was not found\n",
    "        \"\"\"\n",
    "        try:\n",
    "            ratio = X[self.colToFill]/X[self.corrCol]\n",
    "            X[self.colToFill] = X[self.colToFill].fillna(X[self.corrCol] * ratio.mean())\n",
    "            return X\n",
    "        except KeyError:\n",
    "            print(f'Something from {self.what} not found in dataset!')  "
   ]
  },
  {
   "cell_type": "code",
   "execution_count": 158,
   "id": "d97fab9c-b164-4e65-b51c-1ccab1052a28",
   "metadata": {},
   "outputs": [
    {
     "data": {
      "text/html": [
       "<div>\n",
       "<style scoped>\n",
       "    .dataframe tbody tr th:only-of-type {\n",
       "        vertical-align: middle;\n",
       "    }\n",
       "\n",
       "    .dataframe tbody tr th {\n",
       "        vertical-align: top;\n",
       "    }\n",
       "\n",
       "    .dataframe thead th {\n",
       "        text-align: right;\n",
       "    }\n",
       "</style>\n",
       "<table border=\"1\" class=\"dataframe\">\n",
       "  <thead>\n",
       "    <tr style=\"text-align: right;\">\n",
       "      <th></th>\n",
       "      <th>Unnamed: 0</th>\n",
       "      <th>hemoglobin</th>\n",
       "      <th>leukocyty</th>\n",
       "      <th>etytr</th>\n",
       "      <th>weight</th>\n",
       "      <th>trombocyty</th>\n",
       "      <th>ast</th>\n",
       "      <th>alp</th>\n",
       "      <th>relationship</th>\n",
       "      <th>name</th>\n",
       "      <th>alt</th>\n",
       "      <th>hbver</th>\n",
       "      <th>smoker</th>\n",
       "      <th>erytrocyty</th>\n",
       "      <th>er-cv</th>\n",
       "      <th>indicator</th>\n",
       "      <th>ssn</th>\n",
       "      <th>hematokrit</th>\n",
       "    </tr>\n",
       "  </thead>\n",
       "  <tbody>\n",
       "    <tr>\n",
       "      <th>0</th>\n",
       "      <td>0</td>\n",
       "      <td>6.77299</td>\n",
       "      <td>5.28153</td>\n",
       "      <td>4.79087</td>\n",
       "      <td>104.22450</td>\n",
       "      <td>7.22472</td>\n",
       "      <td>0.618501</td>\n",
       "      <td>0.497458</td>\n",
       "      <td>married</td>\n",
       "      <td>Kathryn Wagner</td>\n",
       "      <td>0.675003</td>\n",
       "      <td>9.04461</td>\n",
       "      <td>no</td>\n",
       "      <td>7.94417</td>\n",
       "      <td>61.31451</td>\n",
       "      <td>0.0</td>\n",
       "      <td>887-91-9698</td>\n",
       "      <td>5.40103</td>\n",
       "    </tr>\n",
       "    <tr>\n",
       "      <th>1</th>\n",
       "      <td>1</td>\n",
       "      <td>6.35217</td>\n",
       "      <td>5.45245</td>\n",
       "      <td>3.34754</td>\n",
       "      <td>65.03608</td>\n",
       "      <td>7.00407</td>\n",
       "      <td>0.669072</td>\n",
       "      <td>0.983211</td>\n",
       "      <td>widowed</td>\n",
       "      <td>Frank Becker</td>\n",
       "      <td>-0.897033</td>\n",
       "      <td>9.09262</td>\n",
       "      <td>no</td>\n",
       "      <td>5.33302</td>\n",
       "      <td>58.00624</td>\n",
       "      <td>0.0</td>\n",
       "      <td>506-37-0250</td>\n",
       "      <td>7.68167</td>\n",
       "    </tr>\n",
       "    <tr>\n",
       "      <th>2</th>\n",
       "      <td>2</td>\n",
       "      <td>5.37162</td>\n",
       "      <td>7.36106</td>\n",
       "      <td>7.10989</td>\n",
       "      <td>63.61518</td>\n",
       "      <td>6.95232</td>\n",
       "      <td>0.653309</td>\n",
       "      <td>0.153915</td>\n",
       "      <td>married</td>\n",
       "      <td>Stephanie Lewis</td>\n",
       "      <td>-0.938073</td>\n",
       "      <td>6.18215</td>\n",
       "      <td>no</td>\n",
       "      <td>6.38771</td>\n",
       "      <td>62.73102</td>\n",
       "      <td>1.0</td>\n",
       "      <td>331-52-1241</td>\n",
       "      <td>6.27422</td>\n",
       "    </tr>\n",
       "    <tr>\n",
       "      <th>3</th>\n",
       "      <td>3</td>\n",
       "      <td>4.60987</td>\n",
       "      <td>8.04010</td>\n",
       "      <td>4.97779</td>\n",
       "      <td>30.35294</td>\n",
       "      <td>6.63243</td>\n",
       "      <td>0.673371</td>\n",
       "      <td>-1.925259</td>\n",
       "      <td>married</td>\n",
       "      <td>Luis Williams</td>\n",
       "      <td>-0.841692</td>\n",
       "      <td>5.22920</td>\n",
       "      <td>no</td>\n",
       "      <td>5.05640</td>\n",
       "      <td>62.60592</td>\n",
       "      <td>1.0</td>\n",
       "      <td>407-22-7513</td>\n",
       "      <td>6.61263</td>\n",
       "    </tr>\n",
       "    <tr>\n",
       "      <th>4</th>\n",
       "      <td>4</td>\n",
       "      <td>5.97408</td>\n",
       "      <td>6.66899</td>\n",
       "      <td>5.58872</td>\n",
       "      <td>97.97181</td>\n",
       "      <td>6.18242</td>\n",
       "      <td>0.674875</td>\n",
       "      <td>0.946127</td>\n",
       "      <td>divoced</td>\n",
       "      <td>Donald Hall</td>\n",
       "      <td>-0.173226</td>\n",
       "      <td>4.97805</td>\n",
       "      <td>yes</td>\n",
       "      <td>5.10205</td>\n",
       "      <td>59.32470</td>\n",
       "      <td>1.0</td>\n",
       "      <td>486-30-7935</td>\n",
       "      <td>6.23117</td>\n",
       "    </tr>\n",
       "    <tr>\n",
       "      <th>...</th>\n",
       "      <td>...</td>\n",
       "      <td>...</td>\n",
       "      <td>...</td>\n",
       "      <td>...</td>\n",
       "      <td>...</td>\n",
       "      <td>...</td>\n",
       "      <td>...</td>\n",
       "      <td>...</td>\n",
       "      <td>...</td>\n",
       "      <td>...</td>\n",
       "      <td>...</td>\n",
       "      <td>...</td>\n",
       "      <td>...</td>\n",
       "      <td>...</td>\n",
       "      <td>...</td>\n",
       "      <td>...</td>\n",
       "      <td>...</td>\n",
       "      <td>...</td>\n",
       "    </tr>\n",
       "    <tr>\n",
       "      <th>10030</th>\n",
       "      <td>10030</td>\n",
       "      <td>5.52171</td>\n",
       "      <td>7.37800</td>\n",
       "      <td>7.04815</td>\n",
       "      <td>83.93728</td>\n",
       "      <td>7.29506</td>\n",
       "      <td>0.749130</td>\n",
       "      <td>0.141428</td>\n",
       "      <td>single</td>\n",
       "      <td>Gary Parks</td>\n",
       "      <td>1.805324</td>\n",
       "      <td>9.31528</td>\n",
       "      <td>N</td>\n",
       "      <td>9.21009</td>\n",
       "      <td>40.17639</td>\n",
       "      <td>1.0</td>\n",
       "      <td>028-45-3066</td>\n",
       "      <td>6.95568</td>\n",
       "    </tr>\n",
       "    <tr>\n",
       "      <th>10031</th>\n",
       "      <td>10031</td>\n",
       "      <td>5.72390</td>\n",
       "      <td>8.34137</td>\n",
       "      <td>5.88201</td>\n",
       "      <td>78.01508</td>\n",
       "      <td>6.43991</td>\n",
       "      <td>0.626101</td>\n",
       "      <td>0.571790</td>\n",
       "      <td>divoced</td>\n",
       "      <td>Michael Haynes</td>\n",
       "      <td>-1.569421</td>\n",
       "      <td>5.58052</td>\n",
       "      <td>Y</td>\n",
       "      <td>5.01783</td>\n",
       "      <td>22.59664</td>\n",
       "      <td>1.0</td>\n",
       "      <td>041-77-3799</td>\n",
       "      <td>6.69757</td>\n",
       "    </tr>\n",
       "    <tr>\n",
       "      <th>10032</th>\n",
       "      <td>10032</td>\n",
       "      <td>7.12205</td>\n",
       "      <td>5.31366</td>\n",
       "      <td>4.84312</td>\n",
       "      <td>78.80204</td>\n",
       "      <td>7.76331</td>\n",
       "      <td>0.787191</td>\n",
       "      <td>0.201474</td>\n",
       "      <td>married</td>\n",
       "      <td>Donald Porter</td>\n",
       "      <td>0.909948</td>\n",
       "      <td>8.82716</td>\n",
       "      <td>Y</td>\n",
       "      <td>7.88062</td>\n",
       "      <td>65.02538</td>\n",
       "      <td>0.0</td>\n",
       "      <td>227-65-3699</td>\n",
       "      <td>5.46733</td>\n",
       "    </tr>\n",
       "    <tr>\n",
       "      <th>10033</th>\n",
       "      <td>10033</td>\n",
       "      <td>5.39175</td>\n",
       "      <td>5.72726</td>\n",
       "      <td>4.45572</td>\n",
       "      <td>15.18502</td>\n",
       "      <td>5.97680</td>\n",
       "      <td>0.633170</td>\n",
       "      <td>-0.021319</td>\n",
       "      <td>single</td>\n",
       "      <td>Cassandra Williams</td>\n",
       "      <td>0.220693</td>\n",
       "      <td>7.63298</td>\n",
       "      <td>no</td>\n",
       "      <td>6.81522</td>\n",
       "      <td>64.56211</td>\n",
       "      <td>0.0</td>\n",
       "      <td>669-16-6262</td>\n",
       "      <td>6.82568</td>\n",
       "    </tr>\n",
       "    <tr>\n",
       "      <th>10034</th>\n",
       "      <td>10034</td>\n",
       "      <td>7.11616</td>\n",
       "      <td>6.86954</td>\n",
       "      <td>6.25132</td>\n",
       "      <td>53.84799</td>\n",
       "      <td>5.55897</td>\n",
       "      <td>0.635216</td>\n",
       "      <td>0.263090</td>\n",
       "      <td>married</td>\n",
       "      <td>Jessica Diaz</td>\n",
       "      <td>0.346001</td>\n",
       "      <td>7.17967</td>\n",
       "      <td>N</td>\n",
       "      <td>7.49288</td>\n",
       "      <td>70.23548</td>\n",
       "      <td>1.0</td>\n",
       "      <td>524-42-2099</td>\n",
       "      <td>7.11213</td>\n",
       "    </tr>\n",
       "  </tbody>\n",
       "</table>\n",
       "<p>10035 rows × 18 columns</p>\n",
       "</div>"
      ],
      "text/plain": [
       "       Unnamed: 0  hemoglobin  leukocyty    etytr     weight  trombocyty  \\\n",
       "0               0     6.77299    5.28153  4.79087  104.22450     7.22472   \n",
       "1               1     6.35217    5.45245  3.34754   65.03608     7.00407   \n",
       "2               2     5.37162    7.36106  7.10989   63.61518     6.95232   \n",
       "3               3     4.60987    8.04010  4.97779   30.35294     6.63243   \n",
       "4               4     5.97408    6.66899  5.58872   97.97181     6.18242   \n",
       "...           ...         ...        ...      ...        ...         ...   \n",
       "10030       10030     5.52171    7.37800  7.04815   83.93728     7.29506   \n",
       "10031       10031     5.72390    8.34137  5.88201   78.01508     6.43991   \n",
       "10032       10032     7.12205    5.31366  4.84312   78.80204     7.76331   \n",
       "10033       10033     5.39175    5.72726  4.45572   15.18502     5.97680   \n",
       "10034       10034     7.11616    6.86954  6.25132   53.84799     5.55897   \n",
       "\n",
       "            ast       alp relationship                name       alt    hbver  \\\n",
       "0      0.618501  0.497458      married      Kathryn Wagner  0.675003  9.04461   \n",
       "1      0.669072  0.983211      widowed        Frank Becker -0.897033  9.09262   \n",
       "2      0.653309  0.153915      married     Stephanie Lewis -0.938073  6.18215   \n",
       "3      0.673371 -1.925259      married       Luis Williams -0.841692  5.22920   \n",
       "4      0.674875  0.946127      divoced         Donald Hall -0.173226  4.97805   \n",
       "...         ...       ...          ...                 ...       ...      ...   \n",
       "10030  0.749130  0.141428       single          Gary Parks  1.805324  9.31528   \n",
       "10031  0.626101  0.571790      divoced      Michael Haynes -1.569421  5.58052   \n",
       "10032  0.787191  0.201474      married       Donald Porter  0.909948  8.82716   \n",
       "10033  0.633170 -0.021319       single  Cassandra Williams  0.220693  7.63298   \n",
       "10034  0.635216  0.263090      married        Jessica Diaz  0.346001  7.17967   \n",
       "\n",
       "      smoker  erytrocyty     er-cv  indicator          ssn  hematokrit  \n",
       "0         no     7.94417  61.31451        0.0  887-91-9698     5.40103  \n",
       "1         no     5.33302  58.00624        0.0  506-37-0250     7.68167  \n",
       "2         no     6.38771  62.73102        1.0  331-52-1241     6.27422  \n",
       "3         no     5.05640  62.60592        1.0  407-22-7513     6.61263  \n",
       "4        yes     5.10205  59.32470        1.0  486-30-7935     6.23117  \n",
       "...      ...         ...       ...        ...          ...         ...  \n",
       "10030      N     9.21009  40.17639        1.0  028-45-3066     6.95568  \n",
       "10031      Y     5.01783  22.59664        1.0  041-77-3799     6.69757  \n",
       "10032      Y     7.88062  65.02538        0.0  227-65-3699     5.46733  \n",
       "10033     no     6.81522  64.56211        0.0  669-16-6262     6.82568  \n",
       "10034      N     7.49288  70.23548        1.0  524-42-2099     7.11213  \n",
       "\n",
       "[10035 rows x 18 columns]"
      ]
     },
     "execution_count": 158,
     "metadata": {},
     "output_type": "execute_result"
    }
   ],
   "source": [
    "pipeline1 =  Pipeline([\n",
    "    ('Transformer_mean',FillingTransform(df_labor, \"mean\", \"hemoglobin\", \"trombocyty\")),\n",
    "    ('Transformer_median',FillingTransform(df_labor,\"median\", \"er-cv\", \"hematokrit\")),\n",
    "    ('Transformer_knn',FillingTransform(df_labor,\"knn\", \"ast\", \"alp\")),\n",
    "    ('Transformer_regression',FillingTransform(df_labor,\"regression\", \"etytr\", \"alt\")),\n",
    "    ('Transformer_ratio',RatioFillingTransformer(df_labor, \"leukocyty\",\"etytr\")),\n",
    "    ('Transformer_ratio2',RatioFillingTransformer(df_labor, \"erytrocyty\",\"alt\")),\n",
    "    ('Transformer_ratio3',RatioFillingTransformer(df_labor, \"hbver\",\"erytrocyty\")),\n",
    "    ('Transformer_yeo', PowerTransform(df_labor, 'yeo-johnson', 'alt')),\n",
    "    ('Transformer_scal', ScalingTransform(df_labor, \"Scaling\", 'ast')),\n",
    "    ('Transformer_stand', ScalingTransform(df_labor, \"Standard\", 'alp'))\n",
    "])\n",
    "\n",
    "df_labor = pipeline1.transform(df_labor)\n",
    "df_labor"
   ]
  },
  {
   "cell_type": "code",
   "execution_count": 159,
   "id": "f9683ec8-a792-4869-95c8-b6c84b388d41",
   "metadata": {},
   "outputs": [
    {
     "data": {
      "text/plain": [
       "Unnamed: 0      0\n",
       "hemoglobin      0\n",
       "leukocyty       0\n",
       "etytr           0\n",
       "weight          0\n",
       "trombocyty      0\n",
       "ast             0\n",
       "alp             0\n",
       "relationship    0\n",
       "name            0\n",
       "alt             0\n",
       "hbver           0\n",
       "smoker          0\n",
       "erytrocyty      0\n",
       "er-cv           0\n",
       "indicator       0\n",
       "ssn             0\n",
       "hematokrit      0\n",
       "dtype: int64"
      ]
     },
     "execution_count": 159,
     "metadata": {},
     "output_type": "execute_result"
    }
   ],
   "source": [
    "df_labor.isna().sum()"
   ]
  },
  {
   "cell_type": "code",
   "execution_count": null,
   "id": "4481e31f-1704-4e3f-ac72-d598e251a868",
   "metadata": {},
   "outputs": [],
   "source": []
  }
 ],
 "metadata": {
  "kernelspec": {
   "display_name": "Python 3 (ipykernel)",
   "language": "python",
   "name": "python3"
  },
  "language_info": {
   "codemirror_mode": {
    "name": "ipython",
    "version": 3
   },
   "file_extension": ".py",
   "mimetype": "text/x-python",
   "name": "python",
   "nbconvert_exporter": "python",
   "pygments_lexer": "ipython3",
   "version": "3.7.3"
  }
 },
 "nbformat": 4,
 "nbformat_minor": 5
}
